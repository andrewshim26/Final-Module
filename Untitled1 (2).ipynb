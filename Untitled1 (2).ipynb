{
 "cells": [
  {
   "cell_type": "code",
   "execution_count": 11,
   "id": "fc2dfeae-d130-46b3-a8f6-b77a9e8033f0",
   "metadata": {},
   "outputs": [],
   "source": [
    "import pandas as pd\n",
    "from sklearn.ensemble import RandomForestClassifier\n",
    "from sklearn.utils import resample\n",
    "from sklearn.model_selection import train_test_split\n",
    "from sklearn.metrics import accuracy_score, classification_report\n",
    "from sklearn.preprocessing import StandardScaler"
   ]
  },
  {
   "cell_type": "code",
   "execution_count": 15,
   "id": "0965e391-38b9-4ed7-ab7e-ce283ad6b684",
   "metadata": {},
   "outputs": [],
   "source": [
    "# Load the dataset again\n",
    "data = pd.read_csv('mental_health_screen_time_dataset.csv')\n",
    "\n",
    "data['Mental_Health_Issues'] = ((data['Stress_Level'] >= 7) | (data['Well_Being_Score'] <= 4)).astype(int)\n",
    "\n",
    "# Define features and target\n",
    "features = [\n",
    "    'Daily_Screen_Time',\n",
    "    'App_Social_Media_Time',\n",
    "    'App_Work_Time',\n",
    "    'App_Entertainment_Time',\n",
    "    'Phone_Unlocks',\n",
    "    'Sleep_Duration',\n",
    "    'Mood_Rating'\n",
    "]\n",
    "target = 'Mental_Health_Issues'\n",
    "\n",
    "# Address class imbalance using oversampling\n",
    "data_majority = data[data['Mental_Health_Issues'] == 1]\n",
    "data_minority = data[data['Mental_Health_Issues'] == 0]\n",
    "\n",
    "data_minority_upsampled = resample(\n",
    "    data_minority,\n",
    "    replace=True,\n",
    "    n_samples=len(data_majority),\n",
    "    random_state=42\n",
    ")\n",
    "\n",
    "data_balanced = pd.concat([data_majority, data_minority_upsampled])"
   ]
  },
  {
   "cell_type": "code",
   "execution_count": 25,
   "id": "474b38c9-9448-4d7c-afa9-ebcd5456b317",
   "metadata": {},
   "outputs": [
    {
     "data": {
      "text/plain": [
       "'              precision    recall  f1-score   support\\n\\n           0       0.92      0.79      0.85      1836\\n           1       0.89      0.96      0.92      3164\\n\\n    accuracy                           0.90      5000\\n   macro avg       0.90      0.88      0.89      5000\\nweighted avg       0.90      0.90      0.90      5000\\n'"
      ]
     },
     "execution_count": 25,
     "metadata": {},
     "output_type": "execute_result"
    }
   ],
   "source": [
    "# Splitting balanced data into features and target\n",
    "X_balanced = data_balanced[features]\n",
    "y_balanced = data_balanced[target]\n",
    "\n",
    "# Feature scaling\n",
    "scaler = StandardScaler()\n",
    "X_balanced_scaled = scaler.fit_transform(X_balanced)\n",
    "\n",
    "# Split the balanced dataset\n",
    "X_train_balanced, X_test_balanced, y_train_balanced, y_test_balanced = train_test_split(\n",
    "    X_balanced_scaled, y_balanced, test_size=0.2, random_state=42\n",
    ")\n",
    "\n",
    "# Train a Random Forest classifier\n",
    "rf_model = RandomForestClassifier(random_state=42)\n",
    "rf_model.fit(X_train_balanced, y_train_balanced)\n",
    "\n",
    "# Evaluate on the original test set (scaled)\n",
    "X_test = data[features]\n",
    "y_test = data[target]\n",
    "X_test_scaled = scaler.transform(X_test)\n",
    "y_pred_balanced = rf_model.predict(X_test_scaled)\n",
    "\n",
    "# Calculate accuracy and generate classification report\n",
    "accuracy_balanced = accuracy_score(y_test, y_pred_balanced)\n",
    "report_balanced = classification_report(y_test, y_pred_balanced)"
   ]
  },
  {
   "cell_type": "code",
   "execution_count": 27,
   "id": "630d2e1a-ccc8-408f-a62f-b249ae312ade",
   "metadata": {},
   "outputs": [
    {
     "data": {
      "text/plain": [
       "0.8982"
      ]
     },
     "execution_count": 27,
     "metadata": {},
     "output_type": "execute_result"
    }
   ],
   "source": [
    "accuracy_balanced"
   ]
  },
  {
   "cell_type": "code",
   "execution_count": 29,
   "id": "b4972521-be02-4434-938b-47f94a9c51e8",
   "metadata": {},
   "outputs": [
    {
     "data": {
      "text/plain": [
       "'              precision    recall  f1-score   support\\n\\n           0       0.92      0.79      0.85      1836\\n           1       0.89      0.96      0.92      3164\\n\\n    accuracy                           0.90      5000\\n   macro avg       0.90      0.88      0.89      5000\\nweighted avg       0.90      0.90      0.90      5000\\n'"
      ]
     },
     "execution_count": 29,
     "metadata": {},
     "output_type": "execute_result"
    }
   ],
   "source": [
    "report_balanced"
   ]
  }
 ],
 "metadata": {
  "kernelspec": {
   "display_name": "Python 3 (ipykernel)",
   "language": "python",
   "name": "python3"
  },
  "language_info": {
   "codemirror_mode": {
    "name": "ipython",
    "version": 3
   },
   "file_extension": ".py",
   "mimetype": "text/x-python",
   "name": "python",
   "nbconvert_exporter": "python",
   "pygments_lexer": "ipython3",
   "version": "3.12.4"
  }
 },
 "nbformat": 4,
 "nbformat_minor": 5
}
